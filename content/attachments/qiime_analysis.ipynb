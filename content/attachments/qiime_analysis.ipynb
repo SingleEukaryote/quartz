{
 "cells": [
  {
   "cell_type": "code",
   "execution_count": 1,
   "metadata": {},
   "outputs": [],
   "source": [
    "# imports\n",
    "from qiime2.plugins import diversity, feature_table, taxa\n",
    "from qiime2 import Artifact, Metadata\n",
    "import pandas as pd"
   ]
  },
  {
   "cell_type": "code",
   "execution_count": 6,
   "metadata": {},
   "outputs": [],
   "source": [
    "# load data\n",
    "table = Artifact.load('/mnt/scratch/brownlab/tch318/pipes/nano-to-ids2/qza-processing/feature-table-frequency.qza')\n",
    "taxonomy = Artifact.load('/mnt/scratch/brownlab/tch318/pipes/nano-to-ids2/qza-processing-vsearch/silva_vsearch_classification.qza')\n",
    "metadata = Metadata.load('/mnt/scratch/brownlab/tch318/pipes/nano-to-ids2/qza-processing-vsearch/methods_metadata.tsv')"
   ]
  },
  {
   "cell_type": "code",
   "execution_count": 7,
   "metadata": {},
   "outputs": [],
   "source": [
    "# filter table\n",
    "filtered_table = feature_table.methods.filter_samples(table, metadata=metadata).filtered_table\n",
    "filtered_table = taxa.methods.filter_table(filtered_table, taxonomy, include='Bacteria').filtered_table\n",
    "#amoebozoa_filtered_table = taxa.methods.filter_table(filtered_table, taxonomy, include='Amoebozoa').filtered_table\n",
    "#fungi_filtered_table = taxa.methods.filter_table(filtered_table, taxonomy, include='Fungi').filtered_table\n",
    "\n"
   ]
  },
  {
   "cell_type": "code",
   "execution_count": 8,
   "metadata": {},
   "outputs": [],
   "source": [
    "# export tables to tsv\n",
    "\n",
    "df = taxonomy.view(pd.DataFrame)\n",
    "df.to_csv('methods-taxonomy.tsv', sep='\\t')\n",
    "\n",
    "df = filtered_table.view(pd.DataFrame)\n",
    "df.to_csv('methods-filtered-feature-table.tsv', sep='\\t')"
   ]
  },
  {
   "cell_type": "code",
   "execution_count": 9,
   "metadata": {},
   "outputs": [
    {
     "data": {
      "text/plain": [
       "'methods-all-taxa_barplot.qzv'"
      ]
     },
     "execution_count": 9,
     "metadata": {},
     "output_type": "execute_result"
    }
   ],
   "source": [
    "# taxonomic barplot\n",
    "taxa.actions.barplot(filtered_table, taxonomy, metadata).visualization.save('methods-all-taxa_barplot.qzv')\n",
    "#taxa.actions.barplot(amoebozoa_filtered_table, taxonomy, metadata).visualization.save('methods-amoebozoa_barplot.qzv')\n",
    "#taxa.actions.barplot(fungi_filtered_table, taxonomy, metadata).visualization.save('methods-fungi_barplot.qzv')"
   ]
  },
  {
   "cell_type": "code",
   "execution_count": 10,
   "metadata": {},
   "outputs": [
    {
     "name": "stderr",
     "output_type": "stream",
     "text": [
      "/mnt/scratch/brownlab/tch318/software/miniconda3/envs/qiime2/lib/python3.6/site-packages/sklearn/metrics/pairwise.py:1761: DataConversionWarning: Data was converted to boolean for metric jaccard\n",
      "  warnings.warn(msg, DataConversionWarning)\n"
     ]
    },
    {
     "data": {
      "text/plain": [
       "'methods-all-bray_curtis_emperor.qzv'"
      ]
     },
     "execution_count": 10,
     "metadata": {},
     "output_type": "execute_result"
    }
   ],
   "source": [
    "# alpha diversity\n",
    "alpha_diversity_results = diversity.actions.core_metrics(filtered_table, 1000, metadata)\n",
    "alpha_diversity_results.jaccard_emperor.save('methods-all-jaccard_emperor.qzv')\n",
    "alpha_diversity_results.bray_curtis_emperor.save('methods-all-bray_curtis_emperor.qzv')"
   ]
  }
 ],
 "metadata": {
  "kernelspec": {
   "display_name": "jupyter",
   "language": "python",
   "name": "python3"
  },
  "language_info": {
   "codemirror_mode": {
    "name": "ipython",
    "version": 3
   },
   "file_extension": ".py",
   "mimetype": "text/x-python",
   "name": "python",
   "nbconvert_exporter": "python",
   "pygments_lexer": "ipython3",
   "version": "3.6.10"
  },
  "orig_nbformat": 4
 },
 "nbformat": 4,
 "nbformat_minor": 2
}
